{
  "nbformat": 4,
  "nbformat_minor": 0,
  "metadata": {
    "colab": {
      "provenance": [],
      "authorship_tag": "ABX9TyNI9nKEoj6Uh2qspwYsZKTV",
      "include_colab_link": true
    },
    "kernelspec": {
      "name": "python3",
      "display_name": "Python 3"
    },
    "language_info": {
      "name": "python"
    }
  },
  "cells": [
    {
      "cell_type": "markdown",
      "metadata": {
        "id": "view-in-github",
        "colab_type": "text"
      },
      "source": [
        "<a href=\"https://colab.research.google.com/github/jpmartin22/jpmartin22/blob/main/Ensemble.ipynb\" target=\"_parent\"><img src=\"https://colab.research.google.com/assets/colab-badge.svg\" alt=\"Open In Colab\"/></a>"
      ]
    },
    {
      "cell_type": "code",
      "execution_count": 2,
      "metadata": {
        "colab": {
          "base_uri": "https://localhost:8080/"
        },
        "id": "vuU2RMXmrTPZ",
        "outputId": "c0a55bfe-e22e-4a52-d66f-9eb360fdfa18"
      },
      "outputs": [
        {
          "output_type": "stream",
          "name": "stdout",
          "text": [
            "Cloning into 'NdLinear'...\n",
            "remote: Enumerating objects: 38, done.\u001b[K\n",
            "remote: Counting objects:   2% (1/38)\u001b[K\rremote: Counting objects:   5% (2/38)\u001b[K\rremote: Counting objects:   7% (3/38)\u001b[K\rremote: Counting objects:  10% (4/38)\u001b[K\rremote: Counting objects:  13% (5/38)\u001b[K\rremote: Counting objects:  15% (6/38)\u001b[K\rremote: Counting objects:  18% (7/38)\u001b[K\rremote: Counting objects:  21% (8/38)\u001b[K\rremote: Counting objects:  23% (9/38)\u001b[K\rremote: Counting objects:  26% (10/38)\u001b[K\rremote: Counting objects:  28% (11/38)\u001b[K\rremote: Counting objects:  31% (12/38)\u001b[K\rremote: Counting objects:  34% (13/38)\u001b[K\rremote: Counting objects:  36% (14/38)\u001b[K\rremote: Counting objects:  39% (15/38)\u001b[K\rremote: Counting objects:  42% (16/38)\u001b[K\rremote: Counting objects:  44% (17/38)\u001b[K\rremote: Counting objects:  47% (18/38)\u001b[K\rremote: Counting objects:  50% (19/38)\u001b[K\rremote: Counting objects:  52% (20/38)\u001b[K\rremote: Counting objects:  55% (21/38)\u001b[K\rremote: Counting objects:  57% (22/38)\u001b[K\rremote: Counting objects:  60% (23/38)\u001b[K\rremote: Counting objects:  63% (24/38)\u001b[K\rremote: Counting objects:  65% (25/38)\u001b[K\rremote: Counting objects:  68% (26/38)\u001b[K\rremote: Counting objects:  71% (27/38)\u001b[K\rremote: Counting objects:  73% (28/38)\u001b[K\rremote: Counting objects:  76% (29/38)\u001b[K\rremote: Counting objects:  78% (30/38)\u001b[K\rremote: Counting objects:  81% (31/38)\u001b[K\rremote: Counting objects:  84% (32/38)\u001b[K\rremote: Counting objects:  86% (33/38)\u001b[K\rremote: Counting objects:  89% (34/38)\u001b[K\rremote: Counting objects:  92% (35/38)\u001b[K\rremote: Counting objects:  94% (36/38)\u001b[K\rremote: Counting objects:  97% (37/38)\u001b[K\rremote: Counting objects: 100% (38/38)\u001b[K\rremote: Counting objects: 100% (38/38), done.\u001b[K\n",
            "remote: Compressing objects:   3% (1/33)\u001b[K\rremote: Compressing objects:   6% (2/33)\u001b[K\rremote: Compressing objects:   9% (3/33)\u001b[K\rremote: Compressing objects:  12% (4/33)\u001b[K\rremote: Compressing objects:  15% (5/33)\u001b[K\rremote: Compressing objects:  18% (6/33)\u001b[K\rremote: Compressing objects:  21% (7/33)\u001b[K\rremote: Compressing objects:  24% (8/33)\u001b[K\rremote: Compressing objects:  27% (9/33)\u001b[K\rremote: Compressing objects:  30% (10/33)\u001b[K\rremote: Compressing objects:  33% (11/33)\u001b[K\rremote: Compressing objects:  36% (12/33)\u001b[K\rremote: Compressing objects:  39% (13/33)\u001b[K\rremote: Compressing objects:  42% (14/33)\u001b[K\rremote: Compressing objects:  45% (15/33)\u001b[K\rremote: Compressing objects:  48% (16/33)\u001b[K\rremote: Compressing objects:  51% (17/33)\u001b[K\rremote: Compressing objects:  54% (18/33)\u001b[K\rremote: Compressing objects:  57% (19/33)\u001b[K\rremote: Compressing objects:  60% (20/33)\u001b[K\rremote: Compressing objects:  63% (21/33)\u001b[K\rremote: Compressing objects:  66% (22/33)\u001b[K\rremote: Compressing objects:  69% (23/33)\u001b[K\rremote: Compressing objects:  72% (24/33)\u001b[K\rremote: Compressing objects:  75% (25/33)\u001b[K\rremote: Compressing objects:  78% (26/33)\u001b[K\rremote: Compressing objects:  81% (27/33)\u001b[K\rremote: Compressing objects:  84% (28/33)\u001b[K\rremote: Compressing objects:  87% (29/33)\u001b[K\rremote: Compressing objects:  90% (30/33)\u001b[K\rremote: Compressing objects:  93% (31/33)\u001b[K\rremote: Compressing objects:  96% (32/33)\u001b[K\rremote: Compressing objects: 100% (33/33)\u001b[K\rremote: Compressing objects: 100% (33/33), done.\u001b[K\n",
            "Receiving objects:   2% (1/38)\rReceiving objects:   5% (2/38)\rReceiving objects:   7% (3/38)\rReceiving objects:  10% (4/38)\rReceiving objects:  13% (5/38)\rReceiving objects:  15% (6/38)\rReceiving objects:  18% (7/38)\rReceiving objects:  21% (8/38)\rReceiving objects:  23% (9/38)\rReceiving objects:  26% (10/38)\rReceiving objects:  28% (11/38)\rReceiving objects:  31% (12/38)\rReceiving objects:  34% (13/38)\rReceiving objects:  36% (14/38)\rReceiving objects:  39% (15/38)\rReceiving objects:  42% (16/38)\rReceiving objects:  44% (17/38)\rReceiving objects:  47% (18/38)\rReceiving objects:  50% (19/38)\rReceiving objects:  52% (20/38)\rReceiving objects:  55% (21/38)\rReceiving objects:  57% (22/38)\rReceiving objects:  60% (23/38)\rReceiving objects:  63% (24/38)\rReceiving objects:  65% (25/38)\rReceiving objects:  68% (26/38)\rremote: Total 38 (delta 11), reused 22 (delta 4), pack-reused 0 (from 0)\u001b[K\n",
            "Receiving objects:  71% (27/38)\rReceiving objects:  73% (28/38)\rReceiving objects:  76% (29/38)\rReceiving objects:  78% (30/38)\rReceiving objects:  81% (31/38)\rReceiving objects:  84% (32/38)\rReceiving objects:  86% (33/38)\rReceiving objects:  89% (34/38)\rReceiving objects:  92% (35/38)\rReceiving objects:  94% (36/38)\rReceiving objects:  97% (37/38)\rReceiving objects: 100% (38/38)\rReceiving objects: 100% (38/38), 63.20 KiB | 21.07 MiB/s, done.\n",
            "Resolving deltas:   0% (0/11)\rResolving deltas:   9% (1/11)\rResolving deltas:  18% (2/11)\rResolving deltas:  27% (3/11)\rResolving deltas:  36% (4/11)\rResolving deltas:  45% (5/11)\rResolving deltas:  54% (6/11)\rResolving deltas:  63% (7/11)\rResolving deltas:  72% (8/11)\rResolving deltas:  81% (9/11)\rResolving deltas:  90% (10/11)\rResolving deltas: 100% (11/11)\rResolving deltas: 100% (11/11), done.\n",
            "/content/NdLinear\n"
          ]
        }
      ],
      "source": [
        "!git clone https://github.com/ensemble-core/NdLinear.git\n",
        "%cd NdLinear"
      ]
    },
    {
      "cell_type": "code",
      "source": [
        "\n",
        "import sys\n",
        "sys.path.append('/content/NdLinear')\n",
        "\n",
        "import torch\n",
        "import torch.nn as nn\n",
        "import torch.optim as optim\n",
        "import torchvision\n",
        "import torchvision.transforms as transforms\n",
        "import time\n",
        "from ndlinear import NdLinear\n"
      ],
      "metadata": {
        "id": "ljI4s_-krqR5"
      },
      "execution_count": 4,
      "outputs": []
    },
    {
      "cell_type": "code",
      "source": [
        "transform = transforms.Compose([transforms.ToTensor()])\n",
        "\n",
        "trainset = torchvision.datasets.MNIST(root='./data', train=True, download=True, transform=transform)\n",
        "trainloader = torch.utils.data.DataLoader(trainset, batch_size=64, shuffle=True)\n",
        "\n",
        "testset = torchvision.datasets.MNIST(root='./data', train=False, download=True, transform=transform)\n",
        "testloader = torch.utils.data.DataLoader(testset, batch_size=64, shuffle=False)"
      ],
      "metadata": {
        "colab": {
          "base_uri": "https://localhost:8080/"
        },
        "id": "dqfVcL0Cr9CE",
        "outputId": "190d3d1c-8dcb-4c0c-c182-f25bd4fdc187"
      },
      "execution_count": 5,
      "outputs": [
        {
          "output_type": "stream",
          "name": "stderr",
          "text": [
            "100%|██████████| 9.91M/9.91M [00:00<00:00, 76.3MB/s]\n",
            "100%|██████████| 28.9k/28.9k [00:00<00:00, 17.0MB/s]\n",
            "100%|██████████| 1.65M/1.65M [00:00<00:00, 50.6MB/s]\n",
            "100%|██████████| 4.54k/4.54k [00:00<00:00, 8.50MB/s]\n"
          ]
        }
      ]
    },
    {
      "cell_type": "code",
      "source": [
        "# Standard MLP\n",
        "class StandardMLP(nn.Module):\n",
        "    def __init__(self):\n",
        "        super(StandardMLP, self).__init__()\n",
        "        self.fc1 = nn.Linear(28*28, 128)\n",
        "        self.relu = nn.ReLU()\n",
        "        self.fc2 = nn.Linear(128, 10)\n",
        "\n",
        "    def forward(self, x):\n",
        "        x = x.view(-1, 28*28)\n",
        "        x = self.relu(self.fc1(x))\n",
        "        return self.fc2(x)\n",
        "\n",
        "# MLP with NdLinear\n",
        "import torch.nn as nn\n",
        "\n",
        "class NdLinearMLP(nn.Module):\n",
        "    def __init__(self):\n",
        "        super(NdLinearMLP, self).__init__()\n",
        "        self.fc1 = NdLinear((28*28,), (128,))\n",
        "        self.relu = nn.ReLU()\n",
        "        self.fc2 = NdLinear((128,), (10,))\n",
        "\n",
        "    def forward(self, x):\n",
        "        x = x.view(-1, 28*28)\n",
        "        x = self.relu(self.fc1(x))\n",
        "        return self.fc2(x)\n"
      ],
      "metadata": {
        "id": "8d5_-PlusCip"
      },
      "execution_count": 10,
      "outputs": []
    },
    {
      "cell_type": "code",
      "source": [
        "def train_model(model, trainloader, criterion, optimizer, device):\n",
        "    model.to(device)\n",
        "    model.train()\n",
        "    total_loss = 0\n",
        "    for inputs, targets in trainloader:\n",
        "        inputs, targets = inputs.to(device), targets.to(device)\n",
        "        optimizer.zero_grad()\n",
        "        outputs = model(inputs)\n",
        "        loss = criterion(outputs, targets)\n",
        "        loss.backward()\n",
        "        optimizer.step()\n",
        "        total_loss += loss.item()\n",
        "    return total_loss / len(trainloader)\n",
        "\n",
        "def test_model(model, testloader, device):\n",
        "    model.eval()\n",
        "    correct = 0\n",
        "    total = 0\n",
        "    with torch.no_grad():\n",
        "        for inputs, targets in testloader:\n",
        "            inputs, targets = inputs.to(device), targets.to(device)\n",
        "            outputs = model(inputs)\n",
        "            _, predicted = outputs.max(1)\n",
        "            total += targets.size(0)\n",
        "            correct += predicted.eq(targets).sum().item()\n",
        "    return 100. * correct / total\n"
      ],
      "metadata": {
        "id": "CZUcvNy1sLRz"
      },
      "execution_count": 11,
      "outputs": []
    },
    {
      "cell_type": "code",
      "source": [
        "device = torch.device(\"cuda\" if torch.cuda.is_available() else \"cpu\")\n",
        "criterion = nn.CrossEntropyLoss()\n",
        "\n",
        "# Training Standard MLP\n",
        "std_model = StandardMLP()\n",
        "std_optimizer = optim.Adam(std_model.parameters(), lr=0.001)\n",
        "\n",
        "# Training NdLinear MLP\n",
        "nd_model = NdLinearMLP()\n",
        "nd_optimizer = optim.Adam(nd_model.parameters(), lr=0.001)\n",
        "\n",
        "print(\"Training Standard MLP...\")\n",
        "for epoch in range(5):\n",
        "    loss = train_model(std_model, trainloader, criterion, std_optimizer, device)\n",
        "    acc = test_model(std_model, testloader, device)\n",
        "    print(f\"Epoch {epoch+1}: Loss={loss:.4f}, Accuracy={acc:.2f}%\")\n",
        "\n",
        "print(\"\\nTraining NdLinear MLP...\")\n",
        "for epoch in range(5):\n",
        "    loss = train_model(nd_model, trainloader, criterion, nd_optimizer, device)\n",
        "    acc = test_model(nd_model, testloader, device)\n",
        "    print(f\"Epoch {epoch+1}: Loss={loss:.4f}, Accuracy={acc:.2f}%\")\n"
      ],
      "metadata": {
        "colab": {
          "base_uri": "https://localhost:8080/"
        },
        "id": "kV6cGVnKsQJM",
        "outputId": "66dacc4e-bf18-4ff9-b2b7-71652ddd5ed7"
      },
      "execution_count": 12,
      "outputs": [
        {
          "output_type": "stream",
          "name": "stdout",
          "text": [
            "Training Standard MLP...\n",
            "Epoch 1: Loss=0.3528, Accuracy=94.27%\n",
            "Epoch 2: Loss=0.1637, Accuracy=95.82%\n",
            "Epoch 3: Loss=0.1136, Accuracy=96.85%\n",
            "Epoch 4: Loss=0.0860, Accuracy=97.31%\n",
            "Epoch 5: Loss=0.0685, Accuracy=97.29%\n",
            "\n",
            "Training NdLinear MLP...\n",
            "Epoch 1: Loss=0.3478, Accuracy=94.30%\n",
            "Epoch 2: Loss=0.1584, Accuracy=96.28%\n",
            "Epoch 3: Loss=0.1116, Accuracy=97.00%\n",
            "Epoch 4: Loss=0.0845, Accuracy=97.06%\n",
            "Epoch 5: Loss=0.0673, Accuracy=97.50%\n"
          ]
        }
      ]
    }
  ]
}